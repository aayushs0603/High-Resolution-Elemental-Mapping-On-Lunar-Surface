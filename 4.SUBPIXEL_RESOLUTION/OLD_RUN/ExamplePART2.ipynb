{
  "nbformat": 4,
  "nbformat_minor": 0,
  "metadata": {
    "colab": {
      "provenance": [],
      "machine_shape": "hm"
    },
    "kernelspec": {
      "name": "python3",
      "display_name": "Python 3"
    },
    "language_info": {
      "name": "python"
    }
  },
  "cells": [
    {
      "cell_type": "markdown",
      "source": [
        "# data2 preprocessing\n",
        "contains code for:\n",
        "- input of all csv files given\n",
        "- combines them all, removes negative Si rows, chi2>=3.5 and duplicate rows if any\n",
        "- running part2 and calculating and updating per region abundance"
      ],
      "metadata": {
        "id": "EyKMKz07IaCl"
      }
    },
    {
      "cell_type": "code",
      "execution_count": null,
      "metadata": {
        "id": "61SSZcdSIV2l"
      },
      "outputs": [],
      "source": [
        "!pip install gdown PyDrive -q"
      ]
    },
    {
      "cell_type": "code",
      "source": [
        "# All mare files\n",
        "!gdown 1Ig5nXZqwscWYRLWgD22a76N5AsIDF2cv\n",
        "!gdown 1RgGrRBntdAb6aMf7mvAgD23WunY2uqv8\n",
        "!gdown 1LqYxaY08nyZqGlK0Udd28MzekwzwLsCz\n",
        "# !gdown 1794ulttX9D46Onumwvg6ToBJCGd9M05L\n",
        "!gdown 15DUqZp716VV60jBM8V0CCg2oQdlBXlDU\n",
        "!gdown 1Ltm2PjQvXCQ-NiJjARWrJGsr74AxWv3g\n",
        "!gdown 1agqOartoVDRJ65yG_gxmtF6Z6oyk7Xd4\n",
        "!gdown 1ul-A8zHvUUOl62F0fzDqm8wL49GNuDiL"
      ],
      "metadata": {
        "colab": {
          "base_uri": "https://localhost:8080/"
        },
        "id": "0DSkOZtuInhm",
        "outputId": "dd8149fd-bc83-495f-c651-8b65b29f7dfc"
      },
      "execution_count": null,
      "outputs": [
        {
          "output_type": "stream",
          "name": "stdout",
          "text": [
            "Downloading...\n",
            "From: https://drive.google.com/uc?id=1Ig5nXZqwscWYRLWgD22a76N5AsIDF2cv\n",
            "To: /content/LROC_GLOBAL_MARE_180.SHX\n",
            "100% 5.25k/5.25k [00:00<00:00, 17.4MB/s]\n",
            "Downloading...\n",
            "From: https://drive.google.com/uc?id=1RgGrRBntdAb6aMf7mvAgD23WunY2uqv8\n",
            "To: /content/LROC_GLOBAL_MARE_180.SHP\n",
            "100% 7.28M/7.28M [00:00<00:00, 33.1MB/s]\n",
            "Downloading...\n",
            "From: https://drive.google.com/uc?id=1LqYxaY08nyZqGlK0Udd28MzekwzwLsCz\n",
            "To: /content/blablabla.csv\n",
            "100% 852k/852k [00:00<00:00, 34.6MB/s]\n",
            "Downloading...\n",
            "From: https://drive.google.com/uc?id=15DUqZp716VV60jBM8V0CCg2oQdlBXlDU\n",
            "To: /content/LROC_GLOBAL_MARE_README.TXT\n",
            "100% 1.38k/1.38k [00:00<00:00, 9.71MB/s]\n",
            "Downloading...\n",
            "From (original): https://drive.google.com/uc?id=1Ltm2PjQvXCQ-NiJjARWrJGsr74AxWv3g\n",
            "From (redirected): https://drive.google.com/uc?id=1Ltm2PjQvXCQ-NiJjARWrJGsr74AxWv3g&confirm=t&uuid=3575496f-e6d1-41c1-a812-548be8e1a5e1\n",
            "To: /content/LROC_GLOBAL_MARE_180.SHP.XML\n",
            "100% 6.74k/6.74k [00:00<00:00, 27.1MB/s]\n",
            "Downloading...\n",
            "From: https://drive.google.com/uc?id=1agqOartoVDRJ65yG_gxmtF6Z6oyk7Xd4\n",
            "To: /content/LROC_GLOBAL_MARE_180.DBF\n",
            "100% 60.1k/60.1k [00:00<00:00, 23.3MB/s]\n",
            "Downloading...\n",
            "From: https://drive.google.com/uc?id=1ul-A8zHvUUOl62F0fzDqm8wL49GNuDiL\n",
            "To: /content/LROC_GLOBAL_MARE_180.PRJ\n",
            "100% 132/132 [00:00<00:00, 806kB/s]\n"
          ]
        }
      ]
    },
    {
      "cell_type": "code",
      "source": [
        "# All region files\n",
        "!gdown --folder --output ./regions/ 1O9Lhg54pWAxzRc4OuITKIKOVlftkHEFV"
      ],
      "metadata": {
        "colab": {
          "base_uri": "https://localhost:8080/"
        },
        "id": "vfCAGM3FIn0g",
        "outputId": "6847dc37-35c0-4087-fcfb-e58ce2968ba0"
      },
      "execution_count": null,
      "outputs": [
        {
          "output_type": "stream",
          "name": "stdout",
          "text": [
            "Retrieving folder contents\n",
            "Processing file 1uz-AIa9yByxIqNnsybNo0CH3uYMlbQym subregion_0_0.csv\n",
            "Processing file 15JcXqizsTJcs8MmI1yOHaDhHtKgHSM6u subregion_0_1.csv\n",
            "Processing file 1GHBlQsZD9pJ2q8KxULgfocDFwGDjKDi6 subregion_0_2.csv\n",
            "Processing file 1Wi5r1yAXTdmxif1bboMWCuobs-hbnGKz subregion_0_3.csv\n",
            "Processing file 1BZiJNNKcC399Al-le_k6gvIZPhQxFZ1v subregion_0_4.csv\n",
            "Processing file 1txwDJNBQDiR6tbh8RdwoTSOw38FaWDuI subregion_0_5.csv\n",
            "Processing file 1F5fubXoN-oTr4BPRAmYs2HfdgfiYVMez subregion_0_6.csv\n",
            "Processing file 1ZFyRlUuE0XLpt-w8Xzs_O8FVjfrkFvow subregion_0_7.csv\n",
            "Processing file 1LLO3d8vjOZHxLGGeUt8TiCy-UiTpS035 subregion_1_0.csv\n",
            "Processing file 1uUZ1P0kGjywOwDBxFT2WBz1c99oQcrwu subregion_1_1.csv\n",
            "Processing file 1sYzr0pgj2Wy-aVFCpN_OQhq5c1Qx2rXp subregion_1_2.csv\n",
            "Processing file 19irv0UzaWFhkp9klerKwn7Lvh6BuruLa subregion_1_3.csv\n",
            "Processing file 1KZC6itp7N9xbLDOPIUbdzj25n4Dva1as subregion_1_4.csv\n",
            "Processing file 1opfAC8ZAwcwsNpNXVmuEDvJg7S6ScB6V subregion_1_5.csv\n",
            "Processing file 1-_tbxi4jB-Qy2kQdA7pNG6IPz4XFaWEe subregion_1_6.csv\n",
            "Processing file 11hpYqfK75WflspKjk7e4UG_qAFl6UFqw subregion_1_7.csv\n",
            "Retrieving folder contents completed\n",
            "Building directory structure\n",
            "Building directory structure completed\n",
            "Downloading...\n",
            "From (original): https://drive.google.com/uc?id=1uz-AIa9yByxIqNnsybNo0CH3uYMlbQym\n",
            "From (redirected): https://drive.google.com/uc?id=1uz-AIa9yByxIqNnsybNo0CH3uYMlbQym&confirm=t&uuid=c08a0eae-6bf5-4020-8581-40f81623fe2a\n",
            "To: /content/regions/ISRO_RegionData01/subregion_0_0.csv\n",
            "100% 786M/786M [00:12<00:00, 62.1MB/s]\n",
            "Downloading...\n",
            "From (original): https://drive.google.com/uc?id=15JcXqizsTJcs8MmI1yOHaDhHtKgHSM6u\n",
            "From (redirected): https://drive.google.com/uc?id=15JcXqizsTJcs8MmI1yOHaDhHtKgHSM6u&confirm=t&uuid=c8748f79-2f1e-4cec-8d6e-157d10f04444\n",
            "To: /content/regions/ISRO_RegionData01/subregion_0_1.csv\n",
            "100% 787M/787M [00:07<00:00, 104MB/s]\n",
            "Downloading...\n",
            "From (original): https://drive.google.com/uc?id=1GHBlQsZD9pJ2q8KxULgfocDFwGDjKDi6\n",
            "From (redirected): https://drive.google.com/uc?id=1GHBlQsZD9pJ2q8KxULgfocDFwGDjKDi6&confirm=t&uuid=3b204833-6af1-498e-9710-633fdad83275\n",
            "To: /content/regions/ISRO_RegionData01/subregion_0_2.csv\n",
            "100% 786M/786M [00:07<00:00, 100MB/s]\n",
            "Downloading...\n",
            "From (original): https://drive.google.com/uc?id=1Wi5r1yAXTdmxif1bboMWCuobs-hbnGKz\n",
            "From (redirected): https://drive.google.com/uc?id=1Wi5r1yAXTdmxif1bboMWCuobs-hbnGKz&confirm=t&uuid=a7d8115b-6ee7-4c0e-a34e-299cfc785c5f\n",
            "To: /content/regions/ISRO_RegionData01/subregion_0_3.csv\n",
            "100% 787M/787M [00:05<00:00, 139MB/s]\n",
            "Downloading...\n",
            "From (original): https://drive.google.com/uc?id=1BZiJNNKcC399Al-le_k6gvIZPhQxFZ1v\n",
            "From (redirected): https://drive.google.com/uc?id=1BZiJNNKcC399Al-le_k6gvIZPhQxFZ1v&confirm=t&uuid=671dd7f3-a72b-49a7-a150-4230a8d5a05a\n",
            "To: /content/regions/ISRO_RegionData01/subregion_0_4.csv\n",
            "100% 786M/786M [00:08<00:00, 94.8MB/s]\n",
            "Downloading...\n",
            "From (original): https://drive.google.com/uc?id=1txwDJNBQDiR6tbh8RdwoTSOw38FaWDuI\n",
            "From (redirected): https://drive.google.com/uc?id=1txwDJNBQDiR6tbh8RdwoTSOw38FaWDuI&confirm=t&uuid=cac736dd-6d1e-4c03-ab42-b110d04f7fa1\n",
            "To: /content/regions/ISRO_RegionData01/subregion_0_5.csv\n",
            "100% 786M/786M [00:05<00:00, 139MB/s]\n",
            "Downloading...\n",
            "From (original): https://drive.google.com/uc?id=1F5fubXoN-oTr4BPRAmYs2HfdgfiYVMez\n",
            "From (redirected): https://drive.google.com/uc?id=1F5fubXoN-oTr4BPRAmYs2HfdgfiYVMez&confirm=t&uuid=12e9e2a6-8e07-4913-bcb8-481000d6ee24\n",
            "To: /content/regions/ISRO_RegionData01/subregion_0_6.csv\n",
            "100% 786M/786M [00:06<00:00, 123MB/s]\n",
            "Downloading...\n",
            "From (original): https://drive.google.com/uc?id=1ZFyRlUuE0XLpt-w8Xzs_O8FVjfrkFvow\n",
            "From (redirected): https://drive.google.com/uc?id=1ZFyRlUuE0XLpt-w8Xzs_O8FVjfrkFvow&confirm=t&uuid=857606e5-ec4f-48e7-b590-8328183dd231\n",
            "To: /content/regions/ISRO_RegionData01/subregion_0_7.csv\n",
            "100% 787M/787M [00:14<00:00, 54.8MB/s]\n",
            "Downloading...\n",
            "From (original): https://drive.google.com/uc?id=1LLO3d8vjOZHxLGGeUt8TiCy-UiTpS035\n",
            "From (redirected): https://drive.google.com/uc?id=1LLO3d8vjOZHxLGGeUt8TiCy-UiTpS035&confirm=t&uuid=c579eaaa-51bd-4b53-8985-adb22dd7ffcf\n",
            "To: /content/regions/ISRO_RegionData01/subregion_1_0.csv\n",
            "100% 787M/787M [00:08<00:00, 96.0MB/s]\n",
            "Downloading...\n",
            "From (original): https://drive.google.com/uc?id=1uUZ1P0kGjywOwDBxFT2WBz1c99oQcrwu\n",
            "From (redirected): https://drive.google.com/uc?id=1uUZ1P0kGjywOwDBxFT2WBz1c99oQcrwu&confirm=t&uuid=cb078618-c88c-4db4-a2c6-34403af364cb\n",
            "To: /content/regions/ISRO_RegionData01/subregion_1_1.csv\n",
            "100% 786M/786M [00:07<00:00, 105MB/s] \n",
            "Downloading...\n",
            "From (original): https://drive.google.com/uc?id=1sYzr0pgj2Wy-aVFCpN_OQhq5c1Qx2rXp\n",
            "From (redirected): https://drive.google.com/uc?id=1sYzr0pgj2Wy-aVFCpN_OQhq5c1Qx2rXp&confirm=t&uuid=79d7d604-a8a1-4670-8f92-d1cb661934d1\n",
            "To: /content/regions/ISRO_RegionData01/subregion_1_2.csv\n",
            "100% 786M/786M [00:09<00:00, 86.0MB/s]\n",
            "Downloading...\n",
            "From (original): https://drive.google.com/uc?id=19irv0UzaWFhkp9klerKwn7Lvh6BuruLa\n",
            "From (redirected): https://drive.google.com/uc?id=19irv0UzaWFhkp9klerKwn7Lvh6BuruLa&confirm=t&uuid=39106947-f205-49b6-9069-b25271a583b2\n",
            "To: /content/regions/ISRO_RegionData01/subregion_1_3.csv\n",
            "100% 786M/786M [00:07<00:00, 102MB/s]\n",
            "Downloading...\n",
            "From (original): https://drive.google.com/uc?id=1KZC6itp7N9xbLDOPIUbdzj25n4Dva1as\n",
            "From (redirected): https://drive.google.com/uc?id=1KZC6itp7N9xbLDOPIUbdzj25n4Dva1as&confirm=t&uuid=2f81e5bf-f219-441d-ac75-47e6968bb74f\n",
            "To: /content/regions/ISRO_RegionData01/subregion_1_4.csv\n",
            "100% 786M/786M [00:08<00:00, 88.5MB/s]\n",
            "Downloading...\n",
            "From (original): https://drive.google.com/uc?id=1opfAC8ZAwcwsNpNXVmuEDvJg7S6ScB6V\n",
            "From (redirected): https://drive.google.com/uc?id=1opfAC8ZAwcwsNpNXVmuEDvJg7S6ScB6V&confirm=t&uuid=35f4f651-9633-44fa-be29-ae73d6b764fd\n",
            "To: /content/regions/ISRO_RegionData01/subregion_1_5.csv\n",
            "100% 786M/786M [00:07<00:00, 111MB/s]\n",
            "Downloading...\n",
            "From (original): https://drive.google.com/uc?id=1-_tbxi4jB-Qy2kQdA7pNG6IPz4XFaWEe\n",
            "From (redirected): https://drive.google.com/uc?id=1-_tbxi4jB-Qy2kQdA7pNG6IPz4XFaWEe&confirm=t&uuid=78352f5d-662a-49cf-bb00-9d904ddcab1c\n",
            "To: /content/regions/ISRO_RegionData01/subregion_1_6.csv\n",
            "100% 786M/786M [00:17<00:00, 44.8MB/s]\n",
            "Downloading...\n",
            "From (original): https://drive.google.com/uc?id=11hpYqfK75WflspKjk7e4UG_qAFl6UFqw\n",
            "From (redirected): https://drive.google.com/uc?id=11hpYqfK75WflspKjk7e4UG_qAFl6UFqw&confirm=t&uuid=57baf881-fe5b-44ed-aa55-a524137570e9\n",
            "To: /content/regions/ISRO_RegionData01/subregion_1_7.csv\n",
            "100% 786M/786M [00:08<00:00, 92.4MB/s]\n",
            "Download completed\n"
          ]
        }
      ]
    },
    {
      "cell_type": "code",
      "source": [
        "from pydrive.auth import GoogleAuth\n",
        "from pydrive.drive import GoogleDrive\n",
        "\n",
        "# Authenticate\n",
        "from google.colab import auth\n",
        "auth.authenticate_user()\n",
        "\n",
        "from oauth2client.client import GoogleCredentials\n",
        "gauth = GoogleAuth()\n",
        "gauth.credentials = GoogleCredentials.get_application_default()\n",
        "drive = GoogleDrive(gauth)"
      ],
      "metadata": {
        "colab": {
          "base_uri": "https://localhost:8080/"
        },
        "id": "uex2ziH1ODp7",
        "outputId": "f80a0055-92db-4c39-89b8-2b32536de7c6"
      },
      "execution_count": null,
      "outputs": [
        {
          "output_type": "stream",
          "name": "stderr",
          "text": [
            "WARNING:root:pydrive is deprecated and no longer maintained. We recommend that you migrate your projects to pydrive2, the maintained fork of pydrive\n"
          ]
        }
      ]
    },
    {
      "cell_type": "code",
      "source": [
        "file_list = drive.ListFile({'q': \"'{}' in parents and trashed=false\".format('1Vea75zfr8pns5SnMf3Uxseqsd822KqnU')}).GetList()"
      ],
      "metadata": {
        "id": "qlEQDzviOoR5"
      },
      "execution_count": null,
      "outputs": []
    },
    {
      "cell_type": "code",
      "source": [
        "for i, file1 in enumerate(sorted(file_list, key = lambda x: x['title']), start=1):\n",
        "    print('Downloading {} from GDrive ({}/{})'.format(file1['title'], i, len(file_list)))\n",
        "    file1.GetContentFile(file1['title'])"
      ],
      "metadata": {
        "colab": {
          "base_uri": "https://localhost:8080/"
        },
        "id": "Fy0abHBjOGYD",
        "outputId": "26091611-eff1-40bf-de38-915f385cd1a1"
      },
      "execution_count": null,
      "outputs": [
        {
          "output_type": "stream",
          "name": "stdout",
          "text": [
            "Downloading subregion_2_0.csv from GDrive (1/16)\n",
            "Downloading subregion_2_1.csv from GDrive (2/16)\n",
            "Downloading subregion_2_2.csv from GDrive (3/16)\n",
            "Downloading subregion_2_3.csv from GDrive (4/16)\n",
            "Downloading subregion_2_4.csv from GDrive (5/16)\n",
            "Downloading subregion_2_5.csv from GDrive (6/16)\n",
            "Downloading subregion_2_6.csv from GDrive (7/16)\n",
            "Downloading subregion_2_7.csv from GDrive (8/16)\n",
            "Downloading subregion_3_0.csv from GDrive (9/16)\n",
            "Downloading subregion_3_1.csv from GDrive (10/16)\n",
            "Downloading subregion_3_2.csv from GDrive (11/16)\n",
            "Downloading subregion_3_3.csv from GDrive (12/16)\n",
            "Downloading subregion_3_4.csv from GDrive (13/16)\n",
            "Downloading subregion_3_5.csv from GDrive (14/16)\n",
            "Downloading subregion_3_6.csv from GDrive (15/16)\n",
            "Downloading subregion_3_7.csv from GDrive (16/16)\n"
          ]
        }
      ]
    },
    {
      "cell_type": "code",
      "source": [
        "!mv subregion_2_0.csv /content/regions/ISRO_RegionData23/\n",
        "!mv subregion_2_1.csv /content/regions/ISRO_RegionData23/\n",
        "!mv subregion_2_2.csv /content/regions/ISRO_RegionData23/\n",
        "!mv subregion_2_3.csv /content/regions/ISRO_RegionData23/\n",
        "!mv subregion_2_4.csv /content/regions/ISRO_RegionData23/\n",
        "!mv subregion_2_5.csv /content/regions/ISRO_RegionData23/\n",
        "!mv subregion_2_6.csv /content/regions/ISRO_RegionData23/\n",
        "!mv subregion_2_7.csv /content/regions/ISRO_RegionData23/\n",
        "!mv subregion_3_0.csv /content/regions/ISRO_RegionData23/\n",
        "!mv subregion_3_1.csv /content/regions/ISRO_RegionData23/\n",
        "!mv subregion_3_2.csv /content/regions/ISRO_RegionData23/\n",
        "!mv subregion_3_3.csv /content/regions/ISRO_RegionData23/\n",
        "!mv subregion_3_4.csv /content/regions/ISRO_RegionData23/\n",
        "!mv subregion_3_5.csv /content/regions/ISRO_RegionData23/\n",
        "!mv subregion_3_6.csv /content/regions/ISRO_RegionData23/\n",
        "!mv subregion_3_7.csv /content/regions/ISRO_RegionData23/"
      ],
      "metadata": {
        "id": "exyyLU6mO9bD"
      },
      "execution_count": null,
      "outputs": []
    },
    {
      "cell_type": "code",
      "source": [
        "file_list = drive.ListFile({'q': \"'{}' in parents and trashed=false\".format('1G4hAxJ_cvsEmBWBreA2b8t69L42NyFIm')}).GetList()"
      ],
      "metadata": {
        "id": "_Z5Qjo-CPQdJ"
      },
      "execution_count": null,
      "outputs": []
    },
    {
      "cell_type": "code",
      "source": [
        "for i, file1 in enumerate(sorted(file_list, key = lambda x: x['title']), start=1):\n",
        "    print('Downloading {} from GDrive ({}/{})'.format(file1['title'], i, len(file_list)))\n",
        "    file1.GetContentFile(file1['title'])"
      ],
      "metadata": {
        "colab": {
          "base_uri": "https://localhost:8080/"
        },
        "id": "8DP6q8U1PTg2",
        "outputId": "a0a16ab2-dc11-419e-aa3b-dc3862c69f38"
      },
      "execution_count": null,
      "outputs": [
        {
          "output_type": "stream",
          "name": "stdout",
          "text": [
            "Downloading subregion_4_0.csv from GDrive (1/16)\n",
            "Downloading subregion_4_1.csv from GDrive (2/16)\n",
            "Downloading subregion_4_2.csv from GDrive (3/16)\n",
            "Downloading subregion_4_3.csv from GDrive (4/16)\n",
            "Downloading subregion_4_4.csv from GDrive (5/16)\n",
            "Downloading subregion_4_5.csv from GDrive (6/16)\n",
            "Downloading subregion_4_6.csv from GDrive (7/16)\n",
            "Downloading subregion_4_7.csv from GDrive (8/16)\n",
            "Downloading subregion_5_0.csv from GDrive (9/16)\n",
            "Downloading subregion_5_1.csv from GDrive (10/16)\n",
            "Downloading subregion_5_2.csv from GDrive (11/16)\n",
            "Downloading subregion_5_3.csv from GDrive (12/16)\n",
            "Downloading subregion_5_4.csv from GDrive (13/16)\n",
            "Downloading subregion_5_5.csv from GDrive (14/16)\n",
            "Downloading subregion_5_6.csv from GDrive (15/16)\n",
            "Downloading subregion_5_7.csv from GDrive (16/16)\n"
          ]
        }
      ]
    },
    {
      "cell_type": "code",
      "source": [
        "!mv subregion_4_0.csv ./regions/ISRO_RegionData45/\n",
        "!mv subregion_4_1.csv ./regions/ISRO_RegionData45/\n",
        "!mv subregion_4_2.csv ./regions/ISRO_RegionData45/\n",
        "!mv subregion_4_3.csv ./regions/ISRO_RegionData45/\n",
        "!mv subregion_4_4.csv ./regions/ISRO_RegionData45/\n",
        "!mv subregion_4_5.csv ./regions/ISRO_RegionData45/\n",
        "!mv subregion_4_6.csv ./regions/ISRO_RegionData45/\n",
        "!mv subregion_4_7.csv ./regions/ISRO_RegionData45/\n",
        "!mv subregion_5_0.csv ./regions/ISRO_RegionData45/\n",
        "!mv subregion_5_1.csv ./regions/ISRO_RegionData45/\n",
        "!mv subregion_5_2.csv ./regions/ISRO_RegionData45/\n",
        "!mv subregion_5_3.csv ./regions/ISRO_RegionData45/\n",
        "!mv subregion_5_4.csv ./regions/ISRO_RegionData45/\n",
        "!mv subregion_5_5.csv ./regions/ISRO_RegionData45/\n",
        "!mv subregion_5_6.csv ./regions/ISRO_RegionData45/\n",
        "!mv subregion_5_7.csv ./regions/ISRO_RegionData45/"
      ],
      "metadata": {
        "id": "9owU8tazPVMR"
      },
      "execution_count": null,
      "outputs": []
    },
    {
      "cell_type": "code",
      "source": [
        "file_list = drive.ListFile({'q': \"'{}' in parents and trashed=false\".format('1shlmJDzid368w8XvAW8Q1in49SHhenDH')}).GetList()"
      ],
      "metadata": {
        "id": "qTO5kMTqPfxm"
      },
      "execution_count": null,
      "outputs": []
    },
    {
      "cell_type": "code",
      "source": [
        "for i, file1 in enumerate(sorted(file_list, key = lambda x: x['title']), start=1):\n",
        "    print('Downloading {} from GDrive ({}/{})'.format(file1['title'], i, len(file_list)))\n",
        "    file1.GetContentFile(file1['title'])"
      ],
      "metadata": {
        "colab": {
          "base_uri": "https://localhost:8080/"
        },
        "id": "YnI8w8A-Pfxm",
        "outputId": "c68f6898-9f33-4a7b-91ff-fd30e26028c4"
      },
      "execution_count": null,
      "outputs": [
        {
          "output_type": "stream",
          "name": "stdout",
          "text": [
            "Downloading subregion_6_0.csv from GDrive (1/16)\n",
            "Downloading subregion_6_1.csv from GDrive (2/16)\n",
            "Downloading subregion_6_2.csv from GDrive (3/16)\n",
            "Downloading subregion_6_3.csv from GDrive (4/16)\n",
            "Downloading subregion_6_4.csv from GDrive (5/16)\n",
            "Downloading subregion_6_5.csv from GDrive (6/16)\n",
            "Downloading subregion_6_6.csv from GDrive (7/16)\n",
            "Downloading subregion_6_7.csv from GDrive (8/16)\n",
            "Downloading subregion_7_0.csv from GDrive (9/16)\n",
            "Downloading subregion_7_1.csv from GDrive (10/16)\n",
            "Downloading subregion_7_2.csv from GDrive (11/16)\n",
            "Downloading subregion_7_3.csv from GDrive (12/16)\n",
            "Downloading subregion_7_4.csv from GDrive (13/16)\n",
            "Downloading subregion_7_5.csv from GDrive (14/16)\n",
            "Downloading subregion_7_6.csv from GDrive (15/16)\n",
            "Downloading subregion_7_7.csv from GDrive (16/16)\n"
          ]
        }
      ]
    },
    {
      "cell_type": "code",
      "source": [
        "!mv subregion_6_0.csv ./regions/ISRO_RegionData67/\n",
        "!mv subregion_6_1.csv ./regions/ISRO_RegionData67/\n",
        "!mv subregion_6_2.csv ./regions/ISRO_RegionData67/\n",
        "!mv subregion_6_3.csv ./regions/ISRO_RegionData67/\n",
        "!mv subregion_6_4.csv ./regions/ISRO_RegionData67/\n",
        "!mv subregion_6_5.csv ./regions/ISRO_RegionData67/\n",
        "!mv subregion_6_6.csv ./regions/ISRO_RegionData67/\n",
        "!mv subregion_6_7.csv ./regions/ISRO_RegionData67/\n",
        "!mv subregion_7_0.csv ./regions/ISRO_RegionData67/\n",
        "!mv subregion_7_1.csv ./regions/ISRO_RegionData67/\n",
        "!mv subregion_7_2.csv ./regions/ISRO_RegionData67/\n",
        "!mv subregion_7_3.csv ./regions/ISRO_RegionData67/\n",
        "!mv subregion_7_4.csv ./regions/ISRO_RegionData67/\n",
        "!mv subregion_7_5.csv ./regions/ISRO_RegionData67/\n",
        "!mv subregion_7_6.csv ./regions/ISRO_RegionData67/\n",
        "!mv subregion_7_7.csv ./regions/ISRO_RegionData67/"
      ],
      "metadata": {
        "id": "yDRLcMXqPfxn"
      },
      "execution_count": null,
      "outputs": []
    },
    {
      "cell_type": "code",
      "source": [
        "!git clone https://github.com/weird-analyst/training"
      ],
      "metadata": {
        "colab": {
          "base_uri": "https://localhost:8080/"
        },
        "id": "sSAn8VegIxBa",
        "outputId": "1390c64b-e658-4571-c080-e8cc8bcbd176"
      },
      "execution_count": null,
      "outputs": [
        {
          "output_type": "stream",
          "name": "stdout",
          "text": [
            "Cloning into 'training'...\n",
            "remote: Enumerating objects: 71, done.\u001b[K\n",
            "remote: Counting objects: 100% (71/71), done.\u001b[K\n",
            "remote: Compressing objects: 100% (52/52), done.\u001b[K\n",
            "remote: Total 71 (delta 26), reused 59 (delta 14), pack-reused 0 (from 0)\u001b[K\n",
            "Receiving objects: 100% (71/71), 8.72 MiB | 37.22 MiB/s, done.\n",
            "Resolving deltas: 100% (26/26), done.\n"
          ]
        }
      ]
    },
    {
      "cell_type": "code",
      "source": [
        "!rm /content/training/PART2Output.npz"
      ],
      "metadata": {
        "id": "py5y2X0gJR8W"
      },
      "execution_count": null,
      "outputs": []
    },
    {
      "cell_type": "code",
      "source": [
        "!mv -v /content/training/* /content/"
      ],
      "metadata": {
        "colab": {
          "base_uri": "https://localhost:8080/"
        },
        "id": "z9G1rXCvRS6Q",
        "outputId": "8f2f455b-8e80-4378-cc8b-cdc7d237aaa3"
      },
      "execution_count": null,
      "outputs": [
        {
          "output_type": "stream",
          "name": "stdout",
          "text": [
            "renamed '/content/training/combined_output_test.csv' -> '/content/combined_output_test.csv'\n",
            "renamed '/content/training/final.py' -> '/content/final.py'\n",
            "renamed '/content/training/ISRO_ML(3).ipynb' -> '/content/ISRO_ML(3).ipynb'\n",
            "renamed '/content/training/LROC_GLOBAL_MARE_180.DBF' -> '/content/LROC_GLOBAL_MARE_180.DBF'\n",
            "renamed '/content/training/LROC_GLOBAL_MARE_180.PRJ' -> '/content/LROC_GLOBAL_MARE_180.PRJ'\n",
            "renamed '/content/training/LROC_GLOBAL_MARE_180.SHP' -> '/content/LROC_GLOBAL_MARE_180.SHP'\n",
            "renamed '/content/training/LROC_GLOBAL_MARE_180.SHP.XML' -> '/content/LROC_GLOBAL_MARE_180.SHP.XML'\n",
            "renamed '/content/training/LROC_GLOBAL_MARE_180.SHX' -> '/content/LROC_GLOBAL_MARE_180.SHX'\n",
            "renamed '/content/training/LROC_GLOBAL_MARE.PNG' -> '/content/LROC_GLOBAL_MARE.PNG'\n",
            "renamed '/content/training/LROC_GLOBAL_MARE_README.TXT' -> '/content/LROC_GLOBAL_MARE_README.TXT'\n"
          ]
        }
      ]
    },
    {
      "cell_type": "markdown",
      "source": [
        "# Running Part2"
      ],
      "metadata": {
        "id": "0gdxoQLXP5-P"
      }
    },
    {
      "cell_type": "code",
      "source": [
        "# Filter and combine all input csv files\n",
        "import os\n",
        "import pandas as pd\n",
        "\n",
        "columns = ['lat0', 'lon0', 'lat1', 'lon1', 'lat2', 'lon2', 'lat3', 'lon3', 'Fe', 'Ti', 'Ca', 'Si', 'Al', 'Mg', 'Na', 'O', 'chi2']\n",
        "\n",
        "def process_csv_files(folder_name):\n",
        "    \"\"\"\n",
        "    Searches the folder for all CSV files, processes them to remove rows\n",
        "    based on specified constraints, and saves the resulting DataFrame to output.csv.\n",
        "\n",
        "    Arguments:\n",
        "    folder_name (str): The name of the folder to search for CSV files.\n",
        "    \"\"\"\n",
        "    # Initialize an empty DataFrame to collect data\n",
        "    main_dataframe = pd.DataFrame()\n",
        "\n",
        "    # Iterate through all files in the folder\n",
        "    for file_name in os.listdir(folder_name):\n",
        "        # Construct the full file path\n",
        "        file_path = os.path.join(folder_name, file_name)\n",
        "\n",
        "        # Check if the file is a CSV file\n",
        "        if file_name.endswith('.csv'):\n",
        "            try:\n",
        "                # Read the CSV file into a DataFrame\n",
        "                df = pd.read_csv(file_path, header=None, names=columns)\n",
        "\n",
        "                # Apply constraints to filter rows\n",
        "                df = df[(df['Si'] >= 0) & (df['chi2'] < 3.5)]\n",
        "\n",
        "                # Append the filtered DataFrame to the main DataFrame\n",
        "                main_dataframe = pd.concat([main_dataframe, df])\n",
        "            except Exception as e:\n",
        "                print(f\"Error processing file {file_name}: {e}\")\n",
        "\n",
        "    # Remove duplicate rows from the main DataFrame\n",
        "    main_dataframe = main_dataframe.drop_duplicates()\n",
        "\n",
        "    # Save the resulting DataFrame to output.csv\n",
        "    output_path = os.path.join(os.getcwd(), \"output.csv\")\n",
        "    main_dataframe.to_csv(output_path, index=False)\n",
        "    print(f\"Processed data saved to {output_path}\")\n",
        "\n",
        "process_csv_files('./ALL_DATA/')"
      ],
      "metadata": {
        "colab": {
          "base_uri": "https://localhost:8080/"
        },
        "id": "Zbe96Tm3QQeO",
        "outputId": "a7a0ebd2-b704-4035-f529-116181aa0b63"
      },
      "execution_count": null,
      "outputs": [
        {
          "output_type": "stream",
          "name": "stdout",
          "text": [
            "Processed data saved to /content/output.csv\n"
          ]
        }
      ]
    },
    {
      "cell_type": "code",
      "source": [
        "!pip install rasterio torch_optimizer torch_geometric -q"
      ],
      "metadata": {
        "colab": {
          "base_uri": "https://localhost:8080/"
        },
        "id": "a1Rv8ey2cVGX",
        "outputId": "de5a0038-1e1b-462d-a8f2-29d632a7d174"
      },
      "execution_count": null,
      "outputs": [
        {
          "output_type": "stream",
          "name": "stdout",
          "text": [
            "\u001b[?25l     \u001b[90m━━━━━━━━━━━━━━━━━━━━━━━━━━━━━━━━━━━━━━━━\u001b[0m \u001b[32m0.0/63.1 kB\u001b[0m \u001b[31m?\u001b[0m eta \u001b[36m-:--:--\u001b[0m\r\u001b[2K     \u001b[90m━━━━━━━━━━━━━━━━━━━━━━━━━━━━━━━━━━━━━━━━\u001b[0m \u001b[32m63.1/63.1 kB\u001b[0m \u001b[31m4.7 MB/s\u001b[0m eta \u001b[36m0:00:00\u001b[0m\n",
            "\u001b[?25h\u001b[?25l   \u001b[90m━━━━━━━━━━━━━━━━━━━━━━━━━━━━━━━━━━━━━━━━\u001b[0m \u001b[32m0.0/1.1 MB\u001b[0m \u001b[31m?\u001b[0m eta \u001b[36m-:--:--\u001b[0m\r\u001b[2K   \u001b[90m━━━━━━━━━━━━━━━━━━━━━━━━━━━━━━━━━━━━━━━━\u001b[0m \u001b[32m1.1/1.1 MB\u001b[0m \u001b[31m54.7 MB/s\u001b[0m eta \u001b[36m0:00:00\u001b[0m\n",
            "\u001b[?25h"
          ]
        }
      ]
    },
    {
      "cell_type": "code",
      "source": [
        "!python final.py 1 output.csv"
      ],
      "metadata": {
        "colab": {
          "base_uri": "https://localhost:8080/"
        },
        "id": "C2ARwEkHP5N1",
        "outputId": "026f0448-0ae7-4272-a543-3e7fb40f0d8c"
      },
      "execution_count": null,
      "outputs": [
        {
          "output_type": "stream",
          "name": "stdout",
          "text": [
            "[INFO] 00:14:22 Imports done. Using cpu\n",
            "[INFO] 00:14:22 Done importing geodataframe for highland-mare classification\n",
            "Mode: 1, Filename: output.csv\n",
            "[INFO] 00:14:22 Starting...\n",
            "[INFO] 00:14:22 Calling Part2 to update GIB\n",
            "[INFO] 00:14:22 Processing file: output.csv\n",
            "Calculating abundances: 100% 3502/3502 [07:38<00:00,  7.64it/s]\n",
            "Subregion '(7, 6)' has 430 entries in batch 0\n",
            "Subregion '(7, 3)' has 743 entries in batch 0\n",
            "Subregion '(7, 4)' has 188 entries in batch 0\n",
            "Subregion '(7, 5)' has 923 entries in batch 0\n",
            "Subregion '(7, 2)' has 1316 entries in batch 0\n",
            "Subregion '(7, 1)' has 1057 entries in batch 0\n",
            "Subregion '(7, 0)' has 1135 entries in batch 0\n",
            "Subregion '(7, 7)' has 182 entries in batch 0\n",
            "Subregion '(6, 2)' has 1411 entries in batch 0\n",
            "Subregion '(5, 2)' has 495 entries in batch 0\n",
            "Subregion '(2, 2)' has 706 entries in batch 0\n",
            "Subregion '(1, 2)' has 1859 entries in batch 0\n",
            "Subregion '(0, 2)' has 2025 entries in batch 0\n",
            "Subregion '(0, 3)' has 1100 entries in batch 0\n",
            "Subregion '(0, 4)' has 1019 entries in batch 0\n",
            "Subregion '(0, 5)' has 602 entries in batch 0\n",
            "Subregion '(0, 6)' has 449 entries in batch 0\n",
            "Subregion '(1, 6)' has 26 entries in batch 0\n",
            "Subregion '(0, 1)' has 696 entries in batch 0\n",
            "Subregion '(0, 7)' has 257 entries in batch 0\n",
            "Subregion '(0, 0)' has 758 entries in batch 0\n",
            "Subregion '(3, 0)' has 110 entries in batch 0\n",
            "Subregion '(2, 0)' has 350 entries in batch 0\n",
            "Subregion '(1, 0)' has 466 entries in batch 0\n",
            "Subregion '(6, 5)' has 328 entries in batch 0\n",
            "Subregion '(6, 1)' has 881 entries in batch 0\n",
            "Subregion '(5, 1)' has 461 entries in batch 0\n",
            "Subregion '(2, 1)' has 692 entries in batch 0\n",
            "Subregion '(1, 1)' has 1060 entries in batch 0\n",
            "Subregion '(1, 5)' has 86 entries in batch 0\n",
            "Subregion '(6, 3)' has 836 entries in batch 0\n",
            "Subregion '(2, 3)' has 144 entries in batch 0\n",
            "Subregion '(1, 3)' has 692 entries in batch 0\n",
            "Subregion '(5, 3)' has 78 entries in batch 0\n",
            "Subregion '(3, 3)' has 259 entries in batch 0\n",
            "Subregion '(4, 3)' has 68 entries in batch 0\n",
            "Subregion '(5, 0)' has 587 entries in batch 0\n",
            "Subregion '(6, 0)' has 1012 entries in batch 0\n",
            "Subregion '(1, 4)' has 451 entries in batch 0\n",
            "Subregion '(6, 4)' has 3 entries in batch 0\n",
            "Subregion '(5, 4)' has 213 entries in batch 0\n",
            "Subregion '(4, 4)' has 277 entries in batch 0\n",
            "Subregion '(3, 4)' has 436 entries in batch 0\n",
            "Subregion '(2, 4)' has 392 entries in batch 0\n",
            "Subregion '(3, 2)' has 381 entries in batch 0\n",
            "Subregion '(4, 2)' has 376 entries in batch 0\n",
            "Updating CSV Files:   0% 0/46 [00:00<?, ?it/s]Processing subregion: (7, 6)\n",
            "Processing subregion: (7, 3)\n",
            "[INFO] 00:22:01 Processing file: ./regions/ISRO_RegionData67/subregion_7_6.csv\n",
            "[INFO] 00:22:01 Processing file: ./regions/ISRO_RegionData67/subregion_7_3.csv\n",
            "[INFO] 00:24:45 Saved updates to file: ./regions/ISRO_RegionData67/subregion_7_6.csv\n",
            "Processing subregion: (7, 4)\n",
            "[INFO] 00:24:45 Processing file: ./regions/ISRO_RegionData67/subregion_7_4.csv\n",
            "Updating CSV Files:   2% 1/46 [02:44<2:03:10, 164.23s/it][INFO] 00:24:45 Saved updates to file: ./regions/ISRO_RegionData67/subregion_7_3.csv\n",
            "Processing subregion: (7, 5)\n",
            "[INFO] 00:24:45 Processing file: ./regions/ISRO_RegionData67/subregion_7_5.csv\n",
            "[INFO] 00:27:36 Saved updates to file: ./regions/ISRO_RegionData67/subregion_7_4.csv\n",
            "Processing subregion: (7, 2)\n",
            "Updating CSV Files:   7% 3/46 [05:35<1:16:02, 106.11s/it][INFO] 00:27:36 Processing file: ./regions/ISRO_RegionData67/subregion_7_2.csv\n",
            "[INFO] 00:27:37 Saved updates to file: ./regions/ISRO_RegionData67/subregion_7_5.csv\n",
            "Processing subregion: (7, 1)\n",
            "[INFO] 00:27:37 Processing file: ./regions/ISRO_RegionData67/subregion_7_1.csv\n",
            "Updating CSV Files:   9% 4/46 [05:36<48:39, 69.50s/it]   [INFO] 00:30:28 Saved updates to file: ./regions/ISRO_RegionData67/subregion_7_1.csv\n",
            "Processing subregion: (7, 0)\n",
            "Updating CSV Files:  11% 5/46 [08:27<1:10:34, 103.29s/it][INFO] 00:30:28 Processing file: ./regions/ISRO_RegionData67/subregion_7_0.csv\n",
            "[INFO] 00:30:28 Saved updates to file: ./regions/ISRO_RegionData67/subregion_7_2.csv\n",
            "Processing subregion: (7, 7)\n",
            "Updating CSV Files:  13% 6/46 [08:27<46:47, 70.19s/it]   [INFO] 00:30:28 Processing file: ./regions/ISRO_RegionData67/subregion_7_7.csv\n",
            "[INFO] 00:32:50 Saved updates to file: ./regions/ISRO_RegionData67/subregion_7_0.csv\n",
            "Processing subregion: (6, 2)\n",
            "[INFO] 00:32:50 Processing file: ./regions/ISRO_RegionData67/subregion_6_2.csv\n",
            "Updating CSV Files:  15% 7/46 [10:49<1:00:14, 92.68s/it][INFO] 00:33:21 Saved updates to file: ./regions/ISRO_RegionData67/subregion_7_7.csv\n",
            "Processing subregion: (5, 2)\n",
            "Updating CSV Files:  17% 8/46 [11:20<46:31, 73.46s/it]  [INFO] 00:33:21 Processing file: ./regions/ISRO_RegionData45/subregion_5_2.csv\n",
            "[INFO] 00:35:12 Saved updates to file: ./regions/ISRO_RegionData67/subregion_6_2.csv\n",
            "Processing subregion: (2, 2)\n",
            "Updating CSV Files:  20% 9/46 [13:11<52:25, 85.02s/it][INFO] 00:35:12 Processing file: ./regions/ISRO_RegionData23/subregion_2_2.csv\n",
            "[INFO] 00:36:18 Saved updates to file: ./regions/ISRO_RegionData45/subregion_5_2.csv\n",
            "Processing subregion: (1, 2)\n",
            "Updating CSV Files:  22% 10/46 [14:17<47:28, 79.13s/it][INFO] 00:36:18 Processing file: ./regions/ISRO_RegionData01/subregion_1_2.csv\n",
            "[INFO] 00:37:57 Saved updates to file: ./regions/ISRO_RegionData23/subregion_2_2.csv\n",
            "Processing subregion: (0, 2)\n",
            "[INFO] 00:37:57 Processing file: ./regions/ISRO_RegionData01/subregion_0_2.csv\n",
            "Updating CSV Files:  24% 11/46 [15:56<49:43, 85.24s/it][INFO] 00:39:04 Saved updates to file: ./regions/ISRO_RegionData01/subregion_1_2.csv\n",
            "Processing subregion: (0, 3)\n",
            "[INFO] 00:39:04 Processing file: ./regions/ISRO_RegionData01/subregion_0_3.csv\n",
            "Updating CSV Files:  26% 12/46 [17:03<45:11, 79.74s/it][INFO] 00:40:31 Saved updates to file: ./regions/ISRO_RegionData01/subregion_0_2.csv\n",
            "Processing subregion: (0, 4)\n",
            "Updating CSV Files:  28% 13/46 [18:30<45:00, 81.84s/it][INFO] 00:40:31 Processing file: ./regions/ISRO_RegionData01/subregion_0_4.csv\n",
            "[INFO] 00:41:52 Saved updates to file: ./regions/ISRO_RegionData01/subregion_0_3.csv\n",
            "Processing subregion: (0, 5)\n",
            "Updating CSV Files:  30% 14/46 [19:51<43:32, 81.64s/it][INFO] 00:41:52 Processing file: ./regions/ISRO_RegionData01/subregion_0_5.csv\n",
            "[INFO] 00:43:12 Saved updates to file: ./regions/ISRO_RegionData01/subregion_0_4.csv\n",
            "Processing subregion: (0, 6)\n",
            "[INFO] 00:43:12 Processing file: ./regions/ISRO_RegionData01/subregion_0_6.csv\n",
            "Updating CSV Files:  33% 15/46 [21:11<41:57, 81.20s/it][INFO] 00:44:29 Saved updates to file: ./regions/ISRO_RegionData01/subregion_0_5.csv\n",
            "Processing subregion: (1, 6)\n",
            "Updating CSV Files:  35% 16/46 [22:28<39:56, 79.87s/it][INFO] 00:44:29 Processing file: ./regions/ISRO_RegionData01/subregion_1_6.csv\n",
            "[INFO] 00:45:58 Saved updates to file: ./regions/ISRO_RegionData01/subregion_0_6.csv\n",
            "Processing subregion: (0, 1)\n",
            "Updating CSV Files:  37% 17/46 [23:57<40:00, 82.76s/it][INFO] 00:45:58 Processing file: ./regions/ISRO_RegionData01/subregion_0_1.csv\n",
            "[INFO] 00:47:26 Saved updates to file: ./regions/ISRO_RegionData01/subregion_1_6.csv\n",
            "Processing subregion: (0, 7)\n",
            "Updating CSV Files:  39% 18/46 [25:25<39:20, 84.29s/it][INFO] 00:47:26 Processing file: ./regions/ISRO_RegionData01/subregion_0_7.csv\n",
            "[INFO] 00:48:34 Saved updates to file: ./regions/ISRO_RegionData01/subregion_0_1.csv\n",
            "Processing subregion: (0, 0)\n",
            "Updating CSV Files:  41% 19/46 [26:33<35:42, 79.34s/it][INFO] 00:48:34 Processing file: ./regions/ISRO_RegionData01/subregion_0_0.csv\n",
            "[INFO] 00:49:56 Saved updates to file: ./regions/ISRO_RegionData01/subregion_0_7.csv\n",
            "Processing subregion: (3, 0)\n",
            "[INFO] 00:49:56 Processing file: ./regions/ISRO_RegionData23/subregion_3_0.csv\n",
            "Updating CSV Files:  43% 20/46 [27:55<34:46, 80.24s/it][INFO] 00:51:09 Saved updates to file: ./regions/ISRO_RegionData01/subregion_0_0.csv\n",
            "Processing subregion: (2, 0)\n",
            "[INFO] 00:51:09 Processing file: ./regions/ISRO_RegionData23/subregion_2_0.csv\n",
            "Updating CSV Files:  46% 21/46 [29:08<32:31, 78.05s/it][INFO] 00:52:25 Saved updates to file: ./regions/ISRO_RegionData23/subregion_3_0.csv\n",
            "Processing subregion: (1, 0)\n",
            "Updating CSV Files:  48% 22/46 [30:24<30:56, 77.35s/it][INFO] 00:52:25 Processing file: ./regions/ISRO_RegionData01/subregion_1_0.csv\n",
            "[INFO] 00:53:46 Saved updates to file: ./regions/ISRO_RegionData23/subregion_2_0.csv\n",
            "Processing subregion: (6, 5)\n",
            "[INFO] 00:53:46 Processing file: ./regions/ISRO_RegionData67/subregion_6_5.csv\n",
            "Updating CSV Files:  50% 23/46 [31:44<30:01, 78.32s/it][INFO] 00:55:03 Saved updates to file: ./regions/ISRO_RegionData01/subregion_1_0.csv\n",
            "Processing subregion: (6, 1)\n",
            "[INFO] 00:55:04 Processing file: ./regions/ISRO_RegionData67/subregion_6_1.csv\n",
            "Updating CSV Files:  52% 24/46 [33:03<28:45, 78.42s/it][INFO] 00:56:32 Saved updates to file: ./regions/ISRO_RegionData67/subregion_6_5.csv\n",
            "Processing subregion: (5, 1)\n",
            "Updating CSV Files:  54% 25/46 [34:31<28:24, 81.16s/it][INFO] 00:56:32 Processing file: ./regions/ISRO_RegionData45/subregion_5_1.csv\n",
            "[INFO] 00:58:15 Saved updates to file: ./regions/ISRO_RegionData67/subregion_6_1.csv\n",
            "Processing subregion: (2, 1)\n",
            "Updating CSV Files:  57% 26/46 [36:14<29:18, 87.91s/it][INFO] 00:58:15 Processing file: ./regions/ISRO_RegionData23/subregion_2_1.csv\n",
            "[INFO] 00:59:14 Saved updates to file: ./regions/ISRO_RegionData45/subregion_5_1.csv\n",
            "Processing subregion: (1, 1)\n",
            "Updating CSV Files:  59% 27/46 [37:13<25:00, 79.00s/it][INFO] 00:59:14 Processing file: ./regions/ISRO_RegionData01/subregion_1_1.csv\n",
            "[INFO] 01:00:41 Saved updates to file: ./regions/ISRO_RegionData23/subregion_2_1.csv\n",
            "Processing subregion: (1, 5)\n",
            "[INFO] 01:00:41 Processing file: ./regions/ISRO_RegionData01/subregion_1_5.csv\n",
            "Updating CSV Files:  61% 28/46 [38:40<24:27, 81.55s/it][INFO] 01:01:56 Saved updates to file: ./regions/ISRO_RegionData01/subregion_1_1.csv\n",
            "Processing subregion: (6, 3)\n",
            "Updating CSV Files:  63% 29/46 [39:55<22:31, 79.50s/it][INFO] 01:01:56 Processing file: ./regions/ISRO_RegionData67/subregion_6_3.csv\n",
            "[INFO] 01:03:12 Saved updates to file: ./regions/ISRO_RegionData01/subregion_1_5.csv\n",
            "Processing subregion: (2, 3)\n",
            "[INFO] 01:03:12 Processing file: ./regions/ISRO_RegionData23/subregion_2_3.csv\n",
            "Updating CSV Files:  65% 30/46 [41:11<20:57, 78.60s/it][INFO] 01:04:32 Saved updates to file: ./regions/ISRO_RegionData67/subregion_6_3.csv\n",
            "Processing subregion: (1, 3)\n",
            "[INFO] 01:04:32 Processing file: ./regions/ISRO_RegionData01/subregion_1_3.csv\n",
            "Updating CSV Files:  67% 31/46 [42:31<19:42, 78.82s/it][INFO] 01:05:48 Saved updates to file: ./regions/ISRO_RegionData23/subregion_2_3.csv\n",
            "Processing subregion: (5, 3)\n",
            "Updating CSV Files:  70% 32/46 [43:46<18:10, 77.93s/it][INFO] 01:05:48 Processing file: ./regions/ISRO_RegionData45/subregion_5_3.csv\n",
            "[INFO] 01:07:22 Saved updates to file: ./regions/ISRO_RegionData01/subregion_1_3.csv\n",
            "Processing subregion: (3, 3)\n",
            "[INFO] 01:07:22 Processing file: ./regions/ISRO_RegionData23/subregion_3_3.csv\n",
            "Updating CSV Files:  72% 33/46 [45:21<17:56, 82.81s/it][INFO] 01:08:35 Saved updates to file: ./regions/ISRO_RegionData45/subregion_5_3.csv\n",
            "Processing subregion: (4, 3)\n",
            "Updating CSV Files:  74% 34/46 [46:34<15:58, 79.91s/it][INFO] 01:08:35 Processing file: ./regions/ISRO_RegionData45/subregion_4_3.csv\n",
            "[INFO] 01:09:51 Saved updates to file: ./regions/ISRO_RegionData23/subregion_3_3.csv\n",
            "Processing subregion: (5, 0)\n",
            "Updating CSV Files:  76% 35/46 [47:50<14:26, 78.78s/it][INFO] 01:09:51 Processing file: ./regions/ISRO_RegionData45/subregion_5_0.csv\n",
            "[INFO] 01:11:07 Saved updates to file: ./regions/ISRO_RegionData45/subregion_4_3.csv\n",
            "Processing subregion: (6, 0)\n",
            "Updating CSV Files:  78% 36/46 [49:06<13:00, 78.08s/it][INFO] 01:11:07 Processing file: ./regions/ISRO_RegionData67/subregion_6_0.csv\n",
            "[INFO] 01:12:25 Saved updates to file: ./regions/ISRO_RegionData45/subregion_5_0.csv\n",
            "Processing subregion: (1, 4)\n",
            "[INFO] 01:12:25 Processing file: ./regions/ISRO_RegionData01/subregion_1_4.csv\n",
            "Updating CSV Files:  80% 37/46 [50:24<11:40, 77.88s/it][INFO] 01:13:47 Saved updates to file: ./regions/ISRO_RegionData67/subregion_6_0.csv\n",
            "Processing subregion: (6, 4)\n",
            "Updating CSV Files:  83% 38/46 [51:46<10:33, 79.19s/it][INFO] 01:13:47 Processing file: ./regions/ISRO_RegionData67/subregion_6_4.csv\n",
            "[INFO] 01:15:03 Saved updates to file: ./regions/ISRO_RegionData01/subregion_1_4.csv\n",
            "Processing subregion: (5, 4)\n",
            "Updating CSV Files:  85% 39/46 [53:02<09:07, 78.20s/it][INFO] 01:15:03 Processing file: ./regions/ISRO_RegionData45/subregion_5_4.csv\n",
            "[INFO] 01:16:17 Saved updates to file: ./regions/ISRO_RegionData67/subregion_6_4.csv\n",
            "Processing subregion: (4, 4)\n",
            "[INFO] 01:16:17 Processing file: ./regions/ISRO_RegionData45/subregion_4_4.csv\n",
            "Updating CSV Files:  87% 40/46 [54:16<07:42, 77.02s/it][INFO] 01:17:47 Saved updates to file: ./regions/ISRO_RegionData45/subregion_5_4.csv\n",
            "Processing subregion: (3, 4)\n",
            "Updating CSV Files:  89% 41/46 [55:46<06:43, 80.72s/it][INFO] 01:17:47 Processing file: ./regions/ISRO_RegionData23/subregion_3_4.csv\n",
            "[INFO] 01:19:11 Saved updates to file: ./regions/ISRO_RegionData45/subregion_4_4.csv\n",
            "Processing subregion: (2, 4)\n",
            "[INFO] 01:19:11 Processing file: ./regions/ISRO_RegionData23/subregion_2_4.csv\n",
            "Updating CSV Files:  91% 42/46 [57:10<05:27, 81.88s/it][INFO] 01:20:21 Saved updates to file: ./regions/ISRO_RegionData23/subregion_3_4.csv\n",
            "Processing subregion: (3, 2)\n",
            "[INFO] 01:20:21 Processing file: ./regions/ISRO_RegionData23/subregion_3_2.csv\n",
            "Updating CSV Files:  93% 43/46 [58:20<03:54, 78.32s/it][INFO] 01:21:38 Saved updates to file: ./regions/ISRO_RegionData23/subregion_2_4.csv\n",
            "Processing subregion: (4, 2)\n",
            "Updating CSV Files:  96% 44/46 [59:37<02:35, 77.92s/it][INFO] 01:21:38 Processing file: ./regions/ISRO_RegionData45/subregion_4_2.csv\n",
            "[INFO] 01:22:56 Saved updates to file: ./regions/ISRO_RegionData23/subregion_3_2.csv\n",
            "Updating CSV Files:  98% 45/46 [1:00:55<01:17, 77.96s/it][INFO] 01:24:03 Saved updates to file: ./regions/ISRO_RegionData45/subregion_4_2.csv\n",
            "Updating CSV Files: 100% 46/46 [1:02:02<00:00, 80.92s/it]\n",
            "[INFO] 01:24:03 Successfully updated GIB. UpdatedRegions: [[ 758.  696. 2025. 1100. 1019.  602.  449.  257.]\n",
            " [ 466. 1060. 1859.  692.  451.   86.   26.    0.]\n",
            " [ 350.  692.  706.  144.  392.    0.    0.    0.]\n",
            " [ 110.    0.  381.  259.  436.    0.    0.    0.]\n",
            " [   0.    0.  376.   68.  277.    0.    0.    0.]\n",
            " [ 587.  461.  495.   78.  213.    0.    0.    0.]\n",
            " [1012.  881. 1411.  836.    3.  328.    0.    0.]\n",
            " [1135. 1057. 1316.  743.  188.  923.  430.  182.]], UpdatedSubregions shape: (8, 8, 6, 13), UpdatedIndices shape: (8, 8)\n",
            "[[ 758.  696. 2025. 1100. 1019.  602.  449.  257.]\n",
            " [ 466. 1060. 1859.  692.  451.   86.   26.    0.]\n",
            " [ 350.  692.  706.  144.  392.    0.    0.    0.]\n",
            " [ 110.    0.  381.  259.  436.    0.    0.    0.]\n",
            " [   0.    0.  376.   68.  277.    0.    0.    0.]\n",
            " [ 587.  461.  495.   78.  213.    0.    0.    0.]\n",
            " [1012.  881. 1411.  836.    3.  328.    0.    0.]\n",
            " [1135. 1057. 1316.  743.  188.  923.  430.  182.]]\n"
          ]
        }
      ]
    }
  ]
}